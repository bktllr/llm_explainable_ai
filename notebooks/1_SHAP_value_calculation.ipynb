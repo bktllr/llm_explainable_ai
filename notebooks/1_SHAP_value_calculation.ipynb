{
 "cells": [
  {
   "cell_type": "markdown",
   "id": "6bc4d6a3-f892-482c-80f7-ce80c937a681",
   "metadata": {},
   "source": [
    "# SHAP value calculation\n",
    "\n",
    "The following document embodies the code that was used to load the data, execute the Catboost-model, calculate the SHAP values and create different SHAP-plots. \n",
    "\n",
    "Attention: The file has to be executed in a folder that embodies the battery data and the catboost-model to be successful."
   ]
  },
  {
   "cell_type": "code",
   "execution_count": null,
   "id": "c2e85230-266c-466f-a19b-ff6e541b0877",
   "metadata": {},
   "outputs": [],
   "source": [
    "# Importing libraries\n",
    "import matplotlib.pyplot as plt\n",
    "import numpy as np\n",
    "import pandas as pd\n",
    "import sweetviz as sv\n",
    "from catboost import CatBoostRegressor\n",
    "import shap\n",
    "shap.initjs()"
   ]
  },
  {
   "cell_type": "markdown",
   "id": "1e084e7f-c88c-4975-8adf-7cd2fdedab5d",
   "metadata": {},
   "source": [
    "## Data preparation"
   ]
  },
  {
   "cell_type": "code",
   "execution_count": null,
   "id": "e79ed103-f04d-4288-b1c2-4d57a4391813",
   "metadata": {},
   "outputs": [],
   "source": [
    "# Load data\n",
    "dummy_data = pd.read_csv('battery_data.csv')"
   ]
  },
  {
   "cell_type": "markdown",
   "id": "1141ce8d-bbcd-408e-8f41-25b762927fc1",
   "metadata": {},
   "source": [
    "## Model execution and SHAP preparation"
   ]
  },
  {
   "cell_type": "code",
   "execution_count": null,
   "id": "c1122efc-3548-4fda-907b-f13170e6a756",
   "metadata": {},
   "outputs": [],
   "source": [
    "# Load CatBoost model\n",
    "reg = CatBoostRegressor()\n",
    "reg.load_model('catboost_model.cbm')"
   ]
  },
  {
   "cell_type": "code",
   "execution_count": null,
   "id": "7bd05222-3969-4941-ae77-45be77d592c2",
   "metadata": {},
   "outputs": [],
   "source": [
    "# Predict new SoH\n",
    "df[\"new_soh\"] = reg.predict(df)"
   ]
  },
  {
   "cell_type": "code",
   "execution_count": null,
   "id": "a3a2d13e-66fb-42c7-ae0b-315859c12bfa",
   "metadata": {},
   "outputs": [],
   "source": [
    "# Visualize single prediction\n",
    "explainer = shap.TreeExplainer(reg)\n",
    "shap_values = explainer(df)\n",
    "shap.plots.force(shap_values[0, ...])"
   ]
  },
  {
   "cell_type": "code",
   "execution_count": null,
   "id": "2cd7602f-61ab-4a8e-b98a-28be5dd42e41",
   "metadata": {},
   "outputs": [],
   "source": [
    "# Calculate SHAP values\n",
    "explainer = shap.Explainer(reg)\n",
    "shap_values = explainer.shap_values(df)"
   ]
  },
  {
   "cell_type": "code",
   "execution_count": null,
   "id": "afcb510e-4fc3-4be4-a999-cb8f8b555db0",
   "metadata": {},
   "outputs": [],
   "source": [
    "# Generate summary plot of all available data\n",
    "shap.summary_plot(shap_values, df)"
   ]
  },
  {
   "cell_type": "code",
   "execution_count": null,
   "id": "122b8a7c-5f07-4dcb-9fe0-33058c3143ca",
   "metadata": {},
   "outputs": [],
   "source": [
    "# Calculate SHAP values for dependence plots\n",
    "explainer = shap.TreeExplainer(reg)\n",
    "shap_values = explainer(df)"
   ]
  },
  {
   "cell_type": "markdown",
   "id": "7df0efa6-8b73-4bed-8a97-a7f9c58f3d17",
   "metadata": {},
   "source": [
    "## SHAP Plots\n",
    "\n",
    "### Dependency plots"
   ]
  },
  {
   "cell_type": "code",
   "execution_count": null,
   "id": "ff0b4e86-3a24-41f4-bdc6-44daf07e89d6",
   "metadata": {},
   "outputs": [],
   "source": [
    "# Create dependence plots for charging_cycles\n",
    "shap.plots.scatter(shap_values[:, \"soh\"], color= shap_values)\n",
    "for features in iFeatures:\n",
    "    shap.plots.scatter(shap_values[:, \"charging_cycles\"], color= shap_values[:, features])"
   ]
  },
  {
   "cell_type": "markdown",
   "id": "1a460f11-86d9-4bf2-b3ca-4f2139df5f6e",
   "metadata": {},
   "source": [
    "### Summary plots"
   ]
  },
  {
   "cell_type": "code",
   "execution_count": null,
   "id": "781f4153-de8e-42c6-ae55-3dc82744821c",
   "metadata": {},
   "outputs": [],
   "source": [
    "# Create summary plot\n",
    "explainer = shap.Explainer(reg)\n",
    "shap_values = explainer.shap_values(df)\n",
    "shap.summary_plot(shap_values, df)"
   ]
  }
 ],
 "metadata": {
  "kernelspec": {
   "display_name": "Python 3 (ipykernel)",
   "language": "python",
   "name": "python3"
  },
  "language_info": {
   "codemirror_mode": {
    "name": "ipython",
    "version": 3
   },
   "file_extension": ".py",
   "mimetype": "text/x-python",
   "name": "python",
   "nbconvert_exporter": "python",
   "pygments_lexer": "ipython3",
   "version": "3.9.7"
  },
  "widgets": {
   "application/vnd.jupyter.widget-state+json": {
    "state": {},
    "version_major": 2,
    "version_minor": 0
   }
  }
 },
 "nbformat": 4,
 "nbformat_minor": 5
}
