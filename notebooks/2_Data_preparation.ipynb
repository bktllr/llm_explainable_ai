{
 "cells": [
  {
   "cell_type": "markdown",
   "id": "c641631d-0b96-483a-ad79-1d32b9f1c685",
   "metadata": {
    "tags": []
   },
   "source": [
    "# Data preparation\n",
    "The data preparation step consists of three parts. Firstly, general unstructured data about SHAP and batteries in general has to be collected for the first fine-tuning step. The second fine-tuning step requires as well data in an unstructured format. But this data should incorporate the results of the SHAP value analysis that describe influential factor on the SoH of batteries in general. The last step is the creation of a structured instruction dataset for the last fine-tuning step. This dataset should incorporate battery instance specific shap values as well as an explanation on how the large language model should interpret those instance specific SHAP values.\n",
    "\n",
    "## Level 1 data\n",
    "The level 1 data consist of unstructured training and evaluation data in a unstructured format. The data is divided into SHAP-augmenting knowledge and battery-augmenting knowledge as the primary objective of the first fine-tuning step is to enhance the knowledge base of the new Large Language Model (LLM) with regard to SHAP and batteries. Therefore, the data was collected by conducting targeted keyword searches for \"SHAP values\", \"Batteries\", \"Smart Batteries\" and \"IoT Batteries\" across prominent search engines including Google and Google Scholar. This led us to the following documents:\n",
    "\n",
    "- SHAP knowledge:\n",
    "    - Trevisan, Vinicius (2022): Using SHAP Values to Explain How Your Machine Learning Model Works. In: TowardsDataScience, 17.01.2022. Online verfügbar unter https://towardsdatascience.com/using-shap-values-to-explain-how-your-machine-learning-model-works-732b3f40e137.\n",
    "    - Awan, Abid All: An Introduction to SHAP Values and Machine Learning Interpretability. In: datacamp 2023. Online verfügbar unter https://www.datacamp.com/tutorial/introduction-to-shap-values-machine-learning-interpretability.\n",
    "    - Cooper, Aidan: Explaining Machine Learning Models: A Non-Technical Guide to Interpreting SHAP Analyses. In: Impromptu Engineer 2021. Online verfügbar unter https://www.aidancooper.co.uk/a-non-technical-guide-to-interpreting-shap-analyses/.\n",
    "    - Lundberg, Scott; Lee, Su-In (2017): A Unified Approach to Interpreting Model Predictions. Online verfügbar unter http://arxiv.org/pdf/1705.07874.pdf.\n",
    "    - Molnar, Christoph (2023): Interpretable machine learning. A guide for making Black Box Models interpretable, Chapter 9.6. [Morisville, North Carolina]: [Lulu]. Online verfügbar unter https://christophm.github.io/interpretable-ml-book/.\n",
    "    - Murphy, Adam: Shapley Values - A Gentle Introduction. In: H2O.ai. Online verfügbar unter https://h2o.ai/blog/2022/shapley-values-a-gentle-introduction/.\n",
    "    - SHAP: An introduction to explainable AI with Shapley. Online verfügbar unter https://shap.readthedocs.io/en/latest/example_notebooks/overviews/An%20introduction%20to%20explainable%20AI%20with%20Shapley%20values.html.\n",
    "    - Wang, Xiaoyou (2021): How to interpret and explain your machine learning models using SHAP values. In: Medium, 19.08.2021. Online verfügbar unter https://m.mage.ai/how-to-interpret-and-explain-your-machine-learning-models-using-shap-values-471c2635b78e.\n",
    "    - Wikipedia: Shapley value. Online verfügbar unter https://en.wikipedia.org/wiki/Shapley_value.\n",
    "    - Aboze, Brain John: A Comprehensive Guide into SHAP (SHapley Additive exPlanations) Values. deepchecks 16.05.2023. Online verfügbar unter https://deepchecks.com/a-comprehensive-guide-into-shap-shapley-additive-explanations-values/.\n",
    " \n",
    "- Battery knowledge:\n",
    "    - Teodorescu, Remus; Sui, Xin; Vilsen, Søren B.; Bharadwaj, Pallavi; Kulkarni, Abhijit; Stroe, Daniel-Ioan (2022): Smart Battery Technology for Lifetime Improvement. In: Batteries 8 (10), S. 169. DOI: 10.3390/batteries8100169. \n",
    "    - Wikipedia: Electric battery. Online verfügbar unter https://en.wikipedia.org/wiki/Electric_battery.\n",
    "    - Wikipedia: Smart Battery. Online verfügbar unter https://en.wikipedia.org/wiki/Smart_battery.\n",
    "    - J. Bokstaller, J. Schneider and J. v. Brocke, \"Estimating SoC, SoH, or RuL of Rechargeable Batteries via IoT: A Review,\" in IEEE Internet of Things Journal, vol. 11, no. 5, pp. 7559-7582, 1 March1, 2024, doi: 10.1109/JIOT.2023.3342367\n",
    "    - Xiong, Rui, Linlin Li, and Jinpeng Tian. \"Towards a smarter battery management system: A critical review on battery state of health monitoring methods.\" Journal of Power Sources 405 (2018): 18-29.\n",
    "    - Xiong, Rui, Linlin Li, and Jinpeng Tian. \"Towards a smarter battery management system: A critical review on battery state of health monitoring methods.\" Journal of Power Sources 405 (2018): 18-29.\n",
    "    \n",
    "These documents were subsequently retrieved in PDF format and then converted into TXT files employing the PDFgear software. Following this conversion, the TXT files underwent a manual cleaning process, involving the removal of extraneous elements such as empty lines, table of contents, and references that held no relevance to our designated use case. Lastly, the data was devided into training data and evaluation data. For the evaluation datasets one SHAP-evaluation document and one battery-evaluation document was selected to test the knowledge of the LLM in these two fields. The SHAP evaluation document incorporates the document by (Aboze, Brain John) and the battery evaluation document incorporates the document \"Wikipedia: Smart Battery\".\n",
    "The training documents were stored in the folder \"/home/[...]/text-generation-webui/training/datasets/Step1-Trainingdata\" and the evaluation documents respectively the Step1_Evaluation_battery.txt and Step1_Evaluation_SHAP.txt were stored in the folder \"/home/[...]/text-generation-webui/training/datasets\" so that they can be accessed from the text-generation-webui.\n",
    "\n",
    "\n",
    "## Level 2 data\n",
    "\n",
    "To prepare the Level 2 data we conducted a SHAP analysis of all batteries. Thereby, the following learnings were derived:\n",
    "- prev_soh is the parameter value for the previous state of health that was measured in the last update of the battery state of health. The last computed state of health is the second most important influencing factor on the state of health of batteries. Therefore, the most recent battery state of health from the past is a good indicator of the battery state of health in the future. A low state of health at the starting point of the last charging process is linearly dependent with a low shap value meaning that it usually has a strong to very strong negative influence on the state of health of batteries, while a high state of health at the starting point of the last charging process tends to have a slightly positive influence on the state of health of the batteries.  \n",
    "- other model specific features\n",
    "\n",
    "The features show the following interaction patterns:\n",
    "- The greater the prev_soh is, the healthier the current soh is\n",
    "- other model specific feature interaction patterns\n",
    "\n",
    "These learnings were summarized in an unstructured TXT-file. Furthermore, a condensed paraphrased version of the training document was created as an evaluation document. The training document is stored in the folder \"/home/[...]/text-generation-webui/training/datasets/Step2-Trainingdata\" and the evaluation document Step2_Evaluation_text.txt is stored in the folder \"/home/[...]/text-generation-webui/training/datasets\" so that they can be accessed from the text-generation-webui.\n",
    "\n",
    "## Level 3 data\n",
    "\n",
    "To conduct the third and last stage of fine-tuning (Step 3), we focused on the instance level and employed supervised fine-tuning with the alpaca-format (Taori et al., 2023).\n",
    "Instruction: question or dynamic input from the user\n",
    "Input: additional information that relates to the question or gives context\n",
    "Output: correct answer to the combination of instruction and input\n",
    "\n",
    "We manually created the following questions and assigned the right answers from the model and its predictions.\n",
    "- \"What is the most relevant feature?\"\n",
    "- \"Which features impacts the prediction highly?\"\n",
    "- \"What feature has the most important SHAP value?\"\n",
    "- \"What is the second most important feature?\"\n",
    "- \"What feature impacts the prediction the most?\"\n",
    "- \"How is the battery impacted by the feature XYZ?\"\n",
    "- \"What role does the age of the battery play in the predictions\"\n",
    "- \"How does the feature XYZ, as indicated by its SHAP value, contribute to the variation in the predicted health of the battery?\"\n",
    "- \"Can you elaborate on how the previous state of health, reflected in its SHAP value, impacts the precision of the current health prediction?\"\n",
    "- \"How does feature XYZ impact the battery predicted state of health?\"\n",
    "- \"What role does the battery age play in determining its overall health?\"\n",
    "- \"What is the third most important feature?\"\n",
    "\n",
    "The same process that was used to create the context was later also employed for the final pipeline to have matching training and production prompts.\n",
    "The answers were hand-crafted and automated for the other datasets with variables of the dataframe.\n",
    "\n",
    "We automatically generated the structured dataset with the questions and created this for the battery data set for the last prediction and one final document for the evaluation to calculate the loss and measure the impact of this final step with a separate dummy data set. \n",
    "\n",
    "\n",
    "The training document Step3_Training_data.json and the evaluation document Step3_Evaluation_data.json are stored in the folder \"/home/[...]/text-generation-webui/training/datasets\" so that they can be accessed from the text-generation-webui.Furthermore, an empty.json document was as well stored in the same folder. This file will be used later in the loss evaluation."
   ]
  },
  {
   "cell_type": "code",
   "execution_count": null,
   "id": "c9b5b0b9-60b7-4941-ac75-bfa9e76c1b3e",
   "metadata": {},
   "outputs": [],
   "source": []
  }
 ],
 "metadata": {
  "kernelspec": {
   "display_name": "Python 3 (ipykernel)",
   "language": "python",
   "name": "python3"
  },
  "language_info": {
   "codemirror_mode": {
    "name": "ipython",
    "version": 3
   },
   "file_extension": ".py",
   "mimetype": "text/x-python",
   "name": "python",
   "nbconvert_exporter": "python",
   "pygments_lexer": "ipython3",
   "version": "3.9.7"
  },
  "widgets": {
   "application/vnd.jupyter.widget-state+json": {
    "state": {},
    "version_major": 2,
    "version_minor": 0
   }
  }
 },
 "nbformat": 4,
 "nbformat_minor": 5
}
